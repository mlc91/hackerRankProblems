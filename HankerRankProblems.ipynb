{
 "cells": [
  {
   "cell_type": "markdown",
   "metadata": {},
   "source": [
    "#### Problem N°1:\n",
    "\n",
    "There is a large pile of socks that must be paired by color. Given an array of integers representing the color of each sock, determine how many pairs of socks with matching colors there are.\n",
    "\n",
    "#### Function Description:\n",
    "Complete the sockMerchant function in the editor below.\n",
    "sockMerchant has the following parameter(s):\n",
    "\n",
    "- int n: the number of socks in the pile\n",
    "- int ar[n]: the colors of each sock\n",
    "\n",
    "#### Returns:\n",
    "- int: the number of pairs"
   ]
  },
  {
   "cell_type": "code",
   "execution_count": 63,
   "metadata": {},
   "outputs": [],
   "source": [
    "n = 9\n",
    "ar = [10, 20, 20, 10, 10, 30, 50, 10, 20]"
   ]
  },
  {
   "cell_type": "code",
   "execution_count": 64,
   "metadata": {},
   "outputs": [
    {
     "name": "stdout",
     "output_type": "stream",
     "text": [
      "3\n"
     ]
    }
   ],
   "source": [
    "def sockMerchant(n, ar):\n",
    "    A = set(ar)\n",
    "    pairs=0\n",
    "    for element in A:\n",
    "        pairs += ar.count(element) // 2\n",
    "\n",
    "    return(pairs)\n",
    "\n",
    "print(pairs)"
   ]
  },
  {
   "cell_type": "markdown",
   "metadata": {},
   "source": [
    "#### Problem N°2:\n",
    "An avid hiker keeps meticulous records of their hikes. During the last hike that took exactly *STEPS* steps, for every step it was noted if it was an uphill, *U* , or a downhill, *D* step. Hikes always start and end at sea level, and each step up or down represents a *1* unit change in altitude. We define the following terms:\n",
    "\n",
    "- A mountain is a sequence of consecutive steps above sea level, starting with a step up from sea level and ending with a step down to sea level.\n",
    "- A valley is a sequence of consecutive steps below sea level, starting with a step down from sea level and ending with a step up to sea level.\n",
    "Given the sequence of up and down steps during a hike, find and print the number of valleys walked through.\n",
    "\n",
    "#### Function Description:\n",
    "\n",
    "Complete the countingValleys function in the editor below.\n",
    "\n",
    "countingValleys has the following parameter(s):\n",
    "\n",
    "- int steps: the number of steps on the hike\n",
    "- string path: a string describing the path\n",
    "\n",
    "#### Returns:\n",
    "- int: the number of valleys traversed"
   ]
  },
  {
   "cell_type": "code",
   "execution_count": 2,
   "metadata": {},
   "outputs": [],
   "source": [
    "steps = 8\n",
    "path = 'UDDDUDUU'"
   ]
  },
  {
   "cell_type": "code",
   "execution_count": 19,
   "metadata": {},
   "outputs": [
    {
     "name": "stdout",
     "output_type": "stream",
     "text": [
      "[1, 0, -1, -2, -1, -2, -1, 0]\n",
      "Cantidad de valles: 1\n"
     ]
    }
   ],
   "source": [
    "def countingValleys(steps, path):\n",
    "    # Write your code here\n",
    "    pathList = []\n",
    "\n",
    "    for element in path:#Pasamos a una lista (pathList) las 'U' y 'D' como 1 y -1 respectivamente\n",
    "        if element == 'U':\n",
    "                pathList.append(1)\n",
    "        else:\n",
    "            pathList.append(-1)\n",
    "        \n",
    "    sumList = []\n",
    "    \n",
    "    suma = 0 \n",
    "    for element in pathList:#Pasamos a una nueva lista el 'recorrido' del caminante\n",
    "        suma = suma + element\n",
    "        sumList.append(suma)\n",
    "\n",
    "    count = 0\n",
    "    for x in range(0,len(sumList)):\n",
    "        if sumList[x]==0 and sumList[x-1]<0:#Sabemos que saldrá de un valle si se encuentra \n",
    "            count = count + 1               #bajo el nivel del mar (x<0, x en sumList) y luego sube al nivel de mar (x=0)\n",
    "    return(count)\n",
    "    \n",
    "print('Cantidad de valles:',countingValleys(steps, path))  "
   ]
  },
  {
   "cell_type": "markdown",
   "metadata": {},
   "source": [
    "### Problem N°3:\n",
    "<img src = 'problem 3.png'>"
   ]
  },
  {
   "cell_type": "code",
   "execution_count": 58,
   "metadata": {},
   "outputs": [],
   "source": [
    "c = [0,0]"
   ]
  },
  {
   "cell_type": "code",
   "execution_count": 67,
   "metadata": {},
   "outputs": [
    {
     "name": "stdout",
     "output_type": "stream",
     "text": [
      "1\n"
     ]
    }
   ],
   "source": [
    "# Complete the jumpingOnClouds function below.\n",
    "def jumpingOnClouds(c):\n",
    "    x = 0\n",
    "    jump = 0\n",
    "    while x < len(c)-1:\n",
    "        if x == (len(c)-2): #Para no pasarme de len(c), si estoy en el anteúltimo, tengo que saltar y termina el juego\n",
    "            jump += 1\n",
    "            x += 1\n",
    "        elif c[x+2] == 0: #Si puedo, salto de a dos\n",
    "            jump += 1 \n",
    "            x += 2\n",
    "        else:\n",
    "            c[x+1] == 0 #Sino, salto de a uno\n",
    "            jump += 1\n",
    "            x += 1\n",
    "        \n",
    "    return jump\n",
    "print(jumpingOnClouds(c))"
   ]
  },
  {
   "cell_type": "markdown",
   "metadata": {},
   "source": [
    "### Problem N°4:\n",
    "<img src = 'problem4.png'>"
   ]
  },
  {
   "cell_type": "code",
   "execution_count": 80,
   "metadata": {},
   "outputs": [
    {
     "name": "stdout",
     "output_type": "stream",
     "text": [
      "6\n",
      "1\n"
     ]
    }
   ],
   "source": [
    "s = 'aba'\n",
    "n = 10\n",
    "\n",
    "print(int(n / len(s)) * s.count('a'))\n",
    "\n",
    "print(s.count('a', 0, n%len(s)))"
   ]
  },
  {
   "cell_type": "code",
   "execution_count": 82,
   "metadata": {},
   "outputs": [
    {
     "name": "stdout",
     "output_type": "stream",
     "text": [
      "7\n"
     ]
    }
   ],
   "source": [
    "# Complete the repeatedString function below.\n",
    "def repeatedString(s, n):\n",
    "    frequency = 0\n",
    "    frequency = int(n / len(s)) * s.count('a') + s.count('a', 0, n%len(s))\n",
    "    \n",
    "    return frequency\n",
    "print(repeatedString(s, n))"
   ]
  }
 ],
 "metadata": {
  "kernelspec": {
   "display_name": "Python 3",
   "language": "python",
   "name": "python3"
  },
  "language_info": {
   "codemirror_mode": {
    "name": "ipython",
    "version": 3
   },
   "file_extension": ".py",
   "mimetype": "text/x-python",
   "name": "python",
   "nbconvert_exporter": "python",
   "pygments_lexer": "ipython3",
   "version": "3.8.5"
  }
 },
 "nbformat": 4,
 "nbformat_minor": 4
}
